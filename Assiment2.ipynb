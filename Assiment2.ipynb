{
 "cells": [
  {
   "cell_type": "raw",
   "id": "f9989a78-3419-4d09-8842-797afaaab0fb",
   "metadata": {},
   "source": [
    "Question 1\n",
    "Ans- comment is part of code which is not the part of code it is only use for give basic understand of code what work is done by code.  \n",
    "    There are two type of comment\n",
    "    1-Single line comment ->this comment is use to comment only single   line it denoted with #\n",
    "    example --> #This is single line comment\n",
    "     2-Multi line comment ->this comment is use to comment only multi   line it denoted with \"\"\"  \"\"\" or ''' ''''\n",
    "    example --> \"\"\"This is multi line comment\n",
    "                    aaaaaaaaaaaaaaaaaaaaA\"\"\"\""
   ]
  },
  {
   "cell_type": "raw",
   "id": "d60992b3-55ac-4187-bce3-84f087324250",
   "metadata": {},
   "source": [
    "Question 2\n",
    "Ans -Variable is like empty container which store int or string flaot\n",
    "   boolean\n",
    "    for declaring variable A\n",
    "    for assign value  A= 10\n",
    "    "
   ]
  },
  {
   "cell_type": "code",
   "execution_count": 4,
   "id": "c72d6371-e00d-4a33-9d06-b3c4f6c86980",
   "metadata": {},
   "outputs": [
    {
     "data": {
      "text/plain": [
       "float"
      ]
     },
     "execution_count": 4,
     "metadata": {},
     "output_type": "execute_result"
    }
   ],
   "source": [
    "#Question 3\n",
    "A= 10\n",
    "type(A)\n",
    "B=float(A)\n",
    "type(B)"
   ]
  },
  {
   "cell_type": "code",
   "execution_count": 7,
   "id": "0c8646c5-5430-49e5-8da3-1c1a7bac3078",
   "metadata": {},
   "outputs": [
    {
     "name": "stdin",
     "output_type": "stream",
     "text": [
      "Enter you number 1 1\n",
      "Enter you number 2 1\n"
     ]
    },
    {
     "data": {
      "text/plain": [
       "2"
      ]
     },
     "execution_count": 7,
     "metadata": {},
     "output_type": "execute_result"
    }
   ],
   "source": [
    "#Question 4\n",
    "A= int(input(\"Enter you number 1\"))\n",
    "B= int(input(\"Enter you number 2\"))\n",
    "C=A+B       \n",
    "C\n",
    "       "
   ]
  },
  {
   "cell_type": "code",
   "execution_count": 9,
   "id": "ce3a7149-ef44-4fd1-9384-3b7eb2549eb0",
   "metadata": {},
   "outputs": [
    {
     "data": {
      "text/plain": [
       "[2, 3]"
      ]
     },
     "execution_count": 9,
     "metadata": {},
     "output_type": "execute_result"
    }
   ],
   "source": [
    "#Question 5\n",
    "my_list = [1, 2, 3, 4, 5]\n",
    "sub_list = my_list[1:3]\n",
    "sub_list"
   ]
  },
  {
   "cell_type": "raw",
   "id": "6fa1087e-0f23-4c21-b070-fab1a326bff7",
   "metadata": {},
   "source": [
    "#Question 6\n",
    "Ans -> complex number is imaginary number in math in math it is represent by 1+2i but in python it is represent by 1+2j\n",
    "we use j in python insted of i"
   ]
  },
  {
   "cell_type": "raw",
   "id": "786a02af-c531-443b-8583-ec83356c2d58",
   "metadata": {},
   "source": [
    "#Question 7 \n",
    "The correct way of assign age in 25 is\n",
    "Age =25"
   ]
  },
  {
   "cell_type": "code",
   "execution_count": 10,
   "id": "99ae2748-67b4-40ec-86d5-f0c48fa2937b",
   "metadata": {},
   "outputs": [
    {
     "data": {
      "text/plain": [
       "float"
      ]
     },
     "execution_count": 10,
     "metadata": {},
     "output_type": "execute_result"
    }
   ],
   "source": [
    "#Question 8\n",
    "price =9.99\n",
    "type(price)"
   ]
  },
  {
   "cell_type": "code",
   "execution_count": 11,
   "id": "5cf2e875-e605-4be0-9fd0-69ce12566203",
   "metadata": {},
   "outputs": [
    {
     "data": {
      "text/plain": [
       "'Shaury rawat'"
      ]
     },
     "execution_count": 11,
     "metadata": {},
     "output_type": "execute_result"
    }
   ],
   "source": [
    "#Question 9\n",
    "Name =\"Shaury rawat\"\n",
    "Name"
   ]
  },
  {
   "cell_type": "code",
   "execution_count": 12,
   "id": "219f824e-312b-4499-b0c3-18891b57bfb7",
   "metadata": {},
   "outputs": [
    {
     "data": {
      "text/plain": [
       "'World'"
      ]
     },
     "execution_count": 12,
     "metadata": {},
     "output_type": "execute_result"
    }
   ],
   "source": [
    "#Question 10\n",
    "string = \"Hello, World!\"\n",
    "substring = string[7:12]\n",
    "substring"
   ]
  },
  {
   "cell_type": "code",
   "execution_count": null,
   "id": "455ad5f0-3b8f-4f41-92d2-c9ca1aeb151c",
   "metadata": {},
   "outputs": [],
   "source": []
  }
 ],
 "metadata": {
  "kernelspec": {
   "display_name": "Python 3 (ipykernel)",
   "language": "python",
   "name": "python3"
  },
  "language_info": {
   "codemirror_mode": {
    "name": "ipython",
    "version": 3
   },
   "file_extension": ".py",
   "mimetype": "text/x-python",
   "name": "python",
   "nbconvert_exporter": "python",
   "pygments_lexer": "ipython3",
   "version": "3.11.3"
  }
 },
 "nbformat": 4,
 "nbformat_minor": 5
}
